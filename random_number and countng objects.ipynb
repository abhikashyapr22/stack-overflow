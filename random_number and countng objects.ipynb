{
  "nbformat": 4,
  "nbformat_minor": 0,
  "metadata": {
    "colab": {
      "name": "28-07-2022",
      "provenance": [],
      "authorship_tag": "ABX9TyMepxd+/j2TP1gVSjS7TD+F",
      "include_colab_link": true
    },
    "kernelspec": {
      "name": "python3",
      "display_name": "Python 3"
    },
    "language_info": {
      "name": "python"
    }
  },
  "cells": [
    {
      "cell_type": "markdown",
      "metadata": {
        "id": "view-in-github",
        "colab_type": "text"
      },
      "source": [
        "<a href=\"https://colab.research.google.com/github/abhikashyapr22/stack-overflow/blob/master/28_07_2022.ipynb\" target=\"_parent\"><img src=\"https://colab.research.google.com/assets/colab-badge.svg\" alt=\"Open In Colab\"/></a>"
      ]
    },
    {
      "cell_type": "code",
      "execution_count": null,
      "metadata": {
        "id": "mHTO-R3U0njc"
      },
      "outputs": [],
      "source": [
        " animals = [['dog', 'snake', 'snake'], ['dog', 'dog', 'cat'], ['snake', 'snake', 'cat']]\n",
        " animals_to_count = ['dog', 'cat']"
      ]
    },
    {
      "cell_type": "code",
      "source": [
        "from typing import List\n",
        "\n",
        "def find_animals(animals:List[List], animals_to_count: List[str]):\n",
        "  d = {}\n",
        "  for animal in animals_to_count:\n",
        "    d[animal] = 0\n",
        "  \n",
        "  for char in animals:\n",
        "    for s in char:\n",
        "        if s in animals_to_count:\n",
        "          d[s] += 1\n",
        "\n",
        "  return d\n",
        "\n",
        "res = find_animals(animals,animals_to_count)\n",
        "print('Dogs:',res['dog'],' ','Cats:',res['cat'])"
      ],
      "metadata": {
        "colab": {
          "base_uri": "https://localhost:8080/"
        },
        "id": "6JTTyetg0pRg",
        "outputId": "40485a94-1dba-4420-87a1-792ef80366f9"
      },
      "execution_count": null,
      "outputs": [
        {
          "output_type": "stream",
          "name": "stdout",
          "text": [
            "Dogs: 3   Cats: 2\n"
          ]
        }
      ]
    },
    {
      "cell_type": "code",
      "source": [
        "res = find_animals(animals,animals_to_count)"
      ],
      "metadata": {
        "id": "ROrbk0ce0wS5"
      },
      "execution_count": null,
      "outputs": []
    },
    {
      "cell_type": "code",
      "source": [
        "print('Dogs:',res['dog'],' ','Cats:',res['cat'])"
      ],
      "metadata": {
        "colab": {
          "base_uri": "https://localhost:8080/"
        },
        "id": "jNZ6QDEq2IT6",
        "outputId": "797413ac-30b8-4f79-eec0-3f7cbdaa11d1"
      },
      "execution_count": null,
      "outputs": [
        {
          "output_type": "stream",
          "name": "stdout",
          "text": [
            "Dogs: 3   Cats: 2\n"
          ]
        }
      ]
    },
    {
      "cell_type": "code",
      "source": [
        ""
      ],
      "metadata": {
        "id": "9FQceIaJ2VyA"
      },
      "execution_count": null,
      "outputs": []
    },
    {
      "cell_type": "code",
      "source": [
        ""
      ],
      "metadata": {
        "id": "m1mVgNsM37ih"
      },
      "execution_count": null,
      "outputs": []
    },
    {
      "cell_type": "code",
      "source": [
        "import random"
      ],
      "metadata": {
        "id": "z902VCqv7UP5"
      },
      "execution_count": null,
      "outputs": []
    },
    {
      "cell_type": "code",
      "source": [
        "num = random.randint(100,999) "
      ],
      "metadata": {
        "id": "78MHQnNX77yQ"
      },
      "execution_count": null,
      "outputs": []
    },
    {
      "cell_type": "code",
      "source": [
        "print(num)"
      ],
      "metadata": {
        "colab": {
          "base_uri": "https://localhost:8080/"
        },
        "id": "kjaIXONC8AEB",
        "outputId": "e617a3f4-b686-4b63-d920-1cf56d05b38d"
      },
      "execution_count": null,
      "outputs": [
        {
          "output_type": "stream",
          "name": "stdout",
          "text": [
            "328\n"
          ]
        }
      ]
    },
    {
      "cell_type": "code",
      "source": [
        "def rand_num():\n",
        "  num1 = random.randint(2, 50)\n",
        "  num2 = random.randint(2,20)\n",
        "  print(num1)\n",
        "  print(num2)\n",
        "  if num1*num2 not in list(range(100,1000)):\n",
        "    rand_num()\n",
        "  else:\n",
        "    return num1, num2"
      ],
      "metadata": {
        "id": "Nzqx3GnN-s9H"
      },
      "execution_count": null,
      "outputs": []
    },
    {
      "cell_type": "code",
      "source": [
        "num1, num2 = rand_num()\n",
        "print(num1, num2)"
      ],
      "metadata": {
        "colab": {
          "base_uri": "https://localhost:8080/"
        },
        "id": "pSpXGdgoBeGN",
        "outputId": "b4e5a04a-9ef0-49d7-de6d-a4ced00f4996"
      },
      "execution_count": null,
      "outputs": [
        {
          "output_type": "stream",
          "name": "stdout",
          "text": [
            "15\n",
            "9\n",
            "15 9\n"
          ]
        }
      ]
    },
    {
      "cell_type": "code",
      "source": [
        "rand_num()"
      ],
      "metadata": {
        "colab": {
          "base_uri": "https://localhost:8080/"
        },
        "id": "f5LwuY1IBoyt",
        "outputId": "b7224e58-e1c3-489a-a069-4d820b962c38"
      },
      "execution_count": null,
      "outputs": [
        {
          "output_type": "stream",
          "name": "stdout",
          "text": [
            "33\n",
            "9\n"
          ]
        },
        {
          "output_type": "execute_result",
          "data": {
            "text/plain": [
              "(33, 9)"
            ]
          },
          "metadata": {},
          "execution_count": 28
        }
      ]
    }
  ]
}
